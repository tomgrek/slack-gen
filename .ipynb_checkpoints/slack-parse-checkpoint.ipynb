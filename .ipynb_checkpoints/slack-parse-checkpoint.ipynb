{
 "cells": [
  {
   "cell_type": "code",
   "execution_count": null,
   "metadata": {},
   "outputs": [],
   "source": [
    "import json\n",
    "import re\n",
    "from collections import defaultdict"
   ]
  },
  {
   "cell_type": "code",
   "execution_count": null,
   "metadata": {},
   "outputs": [],
   "source": [
    "dirs = !ls -d ./slackdata/*/"
   ]
  },
  {
   "cell_type": "code",
   "execution_count": null,
   "metadata": {},
   "outputs": [],
   "source": [
    "users = dict()\n",
    "with open('./slackdata/users.json') as f:\n",
    "    j = json.loads(f.read())\n",
    "    for user in j:\n",
    "        userid = ''\n",
    "        profile = user['profile']\n",
    "        if 'real_name_normalized' in profile.keys(): userid = profile['real_name_normalized']\n",
    "        if 'email' in profile.keys(): userid = profile['email']\n",
    "        users[user['id']] = userid.replace('.','_').replace(' ', '_').lower()"
   ]
  },
  {
   "cell_type": "code",
   "execution_count": null,
   "metadata": {},
   "outputs": [],
   "source": [
    "json_files = []\n",
    "for d in dirs:\n",
    "    files = !ls {d}*.json\n",
    "    for f in files:\n",
    "        json_files.append(f)"
   ]
  },
  {
   "cell_type": "code",
   "execution_count": null,
   "metadata": {},
   "outputs": [],
   "source": [
    "s = ''\n",
    "for jf in json_files:\n",
    "    with open(jf) as f:\n",
    "        j = json.loads(f.read())\n",
    "        for item in j:\n",
    "            if item['type'] == 'message':\n",
    "                user = 'unknown_user'\n",
    "                text = 'text'\n",
    "                try:\n",
    "                    user = item['user']\n",
    "                except:\n",
    "                    try:\n",
    "                        user = item['comment']['user']\n",
    "                    except:\n",
    "                        user = 'unknown_user'\n",
    "                try:\n",
    "                    user = users[user]\n",
    "                except:\n",
    "                    user = 'unknown_user'\n",
    "                try:\n",
    "                    text = item['text']\n",
    "                except:\n",
    "                    text = ''\n",
    "                s = '{} <__{}__> {}'.format(s, user, text)"
   ]
  },
  {
   "cell_type": "code",
   "execution_count": null,
   "metadata": {
    "scrolled": true
   },
   "outputs": [],
   "source": [
    "def repl(match):\n",
    "    try:\n",
    "        return '@' + users[match.group(0)[2:-1]]\n",
    "    except:\n",
    "        return '@unknown_user '\n",
    "news = re.sub(\"<@(W[0-9A-Z]*)>\", repl, s)\n",
    "data = re.sub(r'<http[s]?://(\\S+.*)>', '<FILE_OR_URL>', news)"
   ]
  },
  {
   "cell_type": "code",
   "execution_count": null,
   "metadata": {},
   "outputs": [],
   "source": [
    "sents = data.replace('\\t','')\n",
    "sents = sents.replace('\\r','')\n",
    "sents = sents.split('\\n')"
   ]
  },
  {
   "cell_type": "code",
   "execution_count": null,
   "metadata": {},
   "outputs": [],
   "source": [
    "sents = [sent for sent in sents if len(sent) > 1]"
   ]
  },
  {
   "cell_type": "code",
   "execution_count": null,
   "metadata": {},
   "outputs": [],
   "source": [
    "with open('./slack.parsed', 'w') as outfile:\n",
    "    outfile.write(' '.join(sents))"
   ]
  },
  {
   "cell_type": "code",
   "execution_count": null,
   "metadata": {},
   "outputs": [],
   "source": []
  },
  {
   "cell_type": "code",
   "execution_count": null,
   "metadata": {},
   "outputs": [],
   "source": []
  },
  {
   "cell_type": "code",
   "execution_count": null,
   "metadata": {},
   "outputs": [],
   "source": []
  },
  {
   "cell_type": "code",
   "execution_count": null,
   "metadata": {},
   "outputs": [],
   "source": []
  },
  {
   "cell_type": "code",
   "execution_count": null,
   "metadata": {},
   "outputs": [],
   "source": []
  },
  {
   "cell_type": "code",
   "execution_count": null,
   "metadata": {},
   "outputs": [],
   "source": []
  },
  {
   "cell_type": "code",
   "execution_count": null,
   "metadata": {},
   "outputs": [],
   "source": []
  }
 ],
 "metadata": {
  "kernelspec": {
   "display_name": "Python 3",
   "language": "python",
   "name": "python3"
  },
  "language_info": {
   "codemirror_mode": {
    "name": "ipython",
    "version": 3
   },
   "file_extension": ".py",
   "mimetype": "text/x-python",
   "name": "python",
   "nbconvert_exporter": "python",
   "pygments_lexer": "ipython3",
   "version": "3.6.4"
  }
 },
 "nbformat": 4,
 "nbformat_minor": 2
}
